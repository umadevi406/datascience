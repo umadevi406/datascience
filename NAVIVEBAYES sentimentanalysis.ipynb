{
 "cells": [
  {
   "cell_type": "code",
   "execution_count": 90,
   "id": "cea93be3",
   "metadata": {},
   "outputs": [],
   "source": [
    "import numpy as np\n",
    "import pandas as pd"
   ]
  },
  {
   "cell_type": "code",
   "execution_count": 91,
   "id": "d6a6d8c9",
   "metadata": {},
   "outputs": [],
   "source": [
    "dfsenti=pd.read_csv(\"C:\\\\Users\\\\DELL\\\\Desktop\\\\DATASETS\\\\sent_analysis.csv\")"
   ]
  },
  {
   "cell_type": "code",
   "execution_count": 92,
   "id": "f59bcecd",
   "metadata": {},
   "outputs": [
    {
     "data": {
      "text/html": [
       "<div>\n",
       "<style scoped>\n",
       "    .dataframe tbody tr th:only-of-type {\n",
       "        vertical-align: middle;\n",
       "    }\n",
       "\n",
       "    .dataframe tbody tr th {\n",
       "        vertical-align: top;\n",
       "    }\n",
       "\n",
       "    .dataframe thead th {\n",
       "        text-align: right;\n",
       "    }\n",
       "</style>\n",
       "<table border=\"1\" class=\"dataframe\">\n",
       "  <thead>\n",
       "    <tr style=\"text-align: right;\">\n",
       "      <th></th>\n",
       "      <th>class</th>\n",
       "      <th>text</th>\n",
       "    </tr>\n",
       "  </thead>\n",
       "  <tbody>\n",
       "    <tr>\n",
       "      <th>0</th>\n",
       "      <td>Pos</td>\n",
       "      <td>films adapted from comic books have had plent...</td>\n",
       "    </tr>\n",
       "    <tr>\n",
       "      <th>1</th>\n",
       "      <td>Pos</td>\n",
       "      <td>every now and then a movie comes along from a...</td>\n",
       "    </tr>\n",
       "    <tr>\n",
       "      <th>2</th>\n",
       "      <td>Pos</td>\n",
       "      <td>you ve got mail works alot better than it des...</td>\n",
       "    </tr>\n",
       "    <tr>\n",
       "      <th>3</th>\n",
       "      <td>Pos</td>\n",
       "      <td>jaws   is a rare film that grabs your atte...</td>\n",
       "    </tr>\n",
       "    <tr>\n",
       "      <th>4</th>\n",
       "      <td>Pos</td>\n",
       "      <td>moviemaking is a lot like being the general m...</td>\n",
       "    </tr>\n",
       "    <tr>\n",
       "      <th>...</th>\n",
       "      <td>...</td>\n",
       "      <td>...</td>\n",
       "    </tr>\n",
       "    <tr>\n",
       "      <th>1995</th>\n",
       "      <td>Neg</td>\n",
       "      <td>if anything     stigmata   should be taken as...</td>\n",
       "    </tr>\n",
       "    <tr>\n",
       "      <th>1996</th>\n",
       "      <td>Neg</td>\n",
       "      <td>john boorman s   zardoz   is a goofy cinemati...</td>\n",
       "    </tr>\n",
       "    <tr>\n",
       "      <th>1997</th>\n",
       "      <td>Neg</td>\n",
       "      <td>the kids in the hall are an acquired taste   ...</td>\n",
       "    </tr>\n",
       "    <tr>\n",
       "      <th>1998</th>\n",
       "      <td>Neg</td>\n",
       "      <td>there was a time when john carpenter was a gr...</td>\n",
       "    </tr>\n",
       "    <tr>\n",
       "      <th>1999</th>\n",
       "      <td>Neg</td>\n",
       "      <td>two party guys bob their heads to haddaway s ...</td>\n",
       "    </tr>\n",
       "  </tbody>\n",
       "</table>\n",
       "<p>2000 rows × 2 columns</p>\n",
       "</div>"
      ],
      "text/plain": [
       "     class                                               text\n",
       "0      Pos   films adapted from comic books have had plent...\n",
       "1      Pos   every now and then a movie comes along from a...\n",
       "2      Pos   you ve got mail works alot better than it des...\n",
       "3      Pos      jaws   is a rare film that grabs your atte...\n",
       "4      Pos   moviemaking is a lot like being the general m...\n",
       "...    ...                                                ...\n",
       "1995   Neg   if anything     stigmata   should be taken as...\n",
       "1996   Neg   john boorman s   zardoz   is a goofy cinemati...\n",
       "1997   Neg   the kids in the hall are an acquired taste   ...\n",
       "1998   Neg   there was a time when john carpenter was a gr...\n",
       "1999   Neg   two party guys bob their heads to haddaway s ...\n",
       "\n",
       "[2000 rows x 2 columns]"
      ]
     },
     "execution_count": 92,
     "metadata": {},
     "output_type": "execute_result"
    }
   ],
   "source": [
    "dfsenti"
   ]
  },
  {
   "cell_type": "code",
   "execution_count": 93,
   "id": "bf884f26",
   "metadata": {},
   "outputs": [],
   "source": [
    "X=dfsenti['text']"
   ]
  },
  {
   "cell_type": "code",
   "execution_count": 94,
   "id": "475dd618",
   "metadata": {},
   "outputs": [],
   "source": [
    "y=dfsenti['class']"
   ]
  },
  {
   "cell_type": "code",
   "execution_count": 95,
   "id": "9493af11",
   "metadata": {},
   "outputs": [],
   "source": [
    "from sklearn.model_selection import train_test_split\n",
    "Xtrain,Xtest,ytrain,ytest=train_test_split(X,y,test_size=0.2)"
   ]
  },
  {
   "cell_type": "code",
   "execution_count": 96,
   "id": "deea28b6",
   "metadata": {},
   "outputs": [
    {
     "data": {
      "text/plain": [
       "((1600,), (400,), (1600,), (400,))"
      ]
     },
     "execution_count": 96,
     "metadata": {},
     "output_type": "execute_result"
    }
   ],
   "source": [
    "Xtrain.shape,Xtest.shape,ytrain.shape,ytest.shape"
   ]
  },
  {
   "cell_type": "code",
   "execution_count": 97,
   "id": "3dcd7fd8",
   "metadata": {},
   "outputs": [],
   "source": [
    "from sklearn.feature_extraction.text import CountVectorizer\n",
    "cvec=CountVectorizer()\n",
    "cvec.fit(Xtrain)\n",
    "Xtrain_cvec=cvec.transform(Xtrain)"
   ]
  },
  {
   "cell_type": "code",
   "execution_count": 98,
   "id": "14068496",
   "metadata": {},
   "outputs": [
    {
     "data": {
      "text/plain": [
       "<1600x35876 sparse matrix of type '<class 'numpy.int64'>'\n",
       "\twith 531576 stored elements in Compressed Sparse Row format>"
      ]
     },
     "execution_count": 98,
     "metadata": {},
     "output_type": "execute_result"
    }
   ],
   "source": [
    "Xtrain_cvec"
   ]
  },
  {
   "cell_type": "code",
   "execution_count": 99,
   "id": "a134604d",
   "metadata": {},
   "outputs": [],
   "source": [
    "from sklearn.feature_extraction.text import TfidfTransformer\n",
    "tfidf=TfidfTransformer()\n",
    "tfidf.fit(Xtrain_cvec)\n",
    "Xtrain_tfidf=tfidf.transform(Xtrain_cvec)"
   ]
  },
  {
   "cell_type": "code",
   "execution_count": 100,
   "id": "e6dfe7fe",
   "metadata": {},
   "outputs": [
    {
     "data": {
      "text/plain": [
       "MultinomialNB()"
      ]
     },
     "execution_count": 100,
     "metadata": {},
     "output_type": "execute_result"
    }
   ],
   "source": [
    "from sklearn.naive_bayes import MultinomialNB\n",
    "MNB=MultinomialNB()\n",
    "MNB.fit(Xtrain_tfidf,ytrain)\n"
   ]
  },
  {
   "cell_type": "code",
   "execution_count": 101,
   "id": "4f981c58",
   "metadata": {},
   "outputs": [
    {
     "data": {
      "text/plain": [
       "(400,)"
      ]
     },
     "execution_count": 101,
     "metadata": {},
     "output_type": "execute_result"
    }
   ],
   "source": [
    "Xtest.shape"
   ]
  },
  {
   "cell_type": "code",
   "execution_count": 102,
   "id": "f550fc9f",
   "metadata": {},
   "outputs": [],
   "source": [
    "Xtest_cvec=cvec.transform(Xtrain)"
   ]
  },
  {
   "cell_type": "code",
   "execution_count": 103,
   "id": "85a5a7a4",
   "metadata": {},
   "outputs": [
    {
     "data": {
      "text/plain": [
       "<1600x35876 sparse matrix of type '<class 'numpy.int64'>'\n",
       "\twith 531576 stored elements in Compressed Sparse Row format>"
      ]
     },
     "execution_count": 103,
     "metadata": {},
     "output_type": "execute_result"
    }
   ],
   "source": [
    "Xtest_cvec"
   ]
  },
  {
   "cell_type": "code",
   "execution_count": 104,
   "id": "25a56f8b",
   "metadata": {},
   "outputs": [],
   "source": [
    "Xtest_tfidf=tfidf.transform(Xtest_cvec)"
   ]
  },
  {
   "cell_type": "code",
   "execution_count": 105,
   "id": "d8b817ed",
   "metadata": {},
   "outputs": [],
   "source": [
    "from sklearn.feature_extraction.text import TfidfTransformer\n"
   ]
  },
  {
   "cell_type": "code",
   "execution_count": 106,
   "id": "95353452",
   "metadata": {},
   "outputs": [],
   "source": [
    "s=\"They pay good salary but work culture is really worst\""
   ]
  },
  {
   "cell_type": "code",
   "execution_count": 107,
   "id": "9394e520",
   "metadata": {},
   "outputs": [],
   "source": [
    "s_cvec=cvec.transform([s])"
   ]
  },
  {
   "cell_type": "code",
   "execution_count": 108,
   "id": "f2880b9b",
   "metadata": {},
   "outputs": [],
   "source": [
    "s_tfidf=tfidf.transform(s_cvec)"
   ]
  },
  {
   "cell_type": "code",
   "execution_count": 109,
   "id": "172be461",
   "metadata": {},
   "outputs": [],
   "source": [
    "pred=MNB.predict(s_tfidf)"
   ]
  },
  {
   "cell_type": "code",
   "execution_count": 110,
   "id": "50ab9e07",
   "metadata": {},
   "outputs": [
    {
     "name": "stdout",
     "output_type": "stream",
     "text": [
      "Negative sentiment\n"
     ]
    }
   ],
   "source": [
    "if pred[0]=='Neg':\n",
    "    print(\"Negative sentiment\")\n",
    "else:\n",
    "    print(\"positive sentiment\")"
   ]
  },
  {
   "cell_type": "code",
   "execution_count": 113,
   "id": "4b321a08",
   "metadata": {},
   "outputs": [],
   "source": [
    "def textClassifier(s):\n",
    " s_cvec=cvec.transform([s])\n",
    " s_tfidf=tfidf.transform(s_cvec)\n",
    " pred=MNB.predict(s_tfidf)\n",
    " if pred[0]=='Neg':\n",
    "    return\n",
    "    \"Negative Sentiment\"\n",
    " else: \n",
    "    \"positive sentiment\"\n",
    "    return"
   ]
  },
  {
   "cell_type": "code",
   "execution_count": 114,
   "id": "87eb2188",
   "metadata": {},
   "outputs": [
    {
     "name": "stdout",
     "output_type": "stream",
     "text": [
      "Enter your sentence:It great to see you after longtime,its real pleasure\n"
     ]
    }
   ],
   "source": [
    "sent=input (\"Enter your sentence:\")"
   ]
  },
  {
   "cell_type": "markdown",
   "id": "ea93a980",
   "metadata": {},
   "source": [
    "### make pileline"
   ]
  },
  {
   "cell_type": "code",
   "execution_count": 115,
   "id": "97adbaa6",
   "metadata": {},
   "outputs": [],
   "source": [
    "from sklearn.model_selection import train_test_split\n",
    "Xptrain,Xptest,yptrain,yptest=train_test_split(X,y,test_size=0.25)"
   ]
  },
  {
   "cell_type": "code",
   "execution_count": 116,
   "id": "3bfec731",
   "metadata": {},
   "outputs": [
    {
     "data": {
      "text/plain": [
       "((1500,), (500,), (1500,), (500,))"
      ]
     },
     "execution_count": 116,
     "metadata": {},
     "output_type": "execute_result"
    }
   ],
   "source": [
    "Xptrain.shape,Xptest.shape,yptrain.shape,yptest.shape"
   ]
  },
  {
   "cell_type": "code",
   "execution_count": 129,
   "id": "920ad9a6",
   "metadata": {},
   "outputs": [],
   "source": [
    "from sklearn.pipeline import make_pipeline\n",
    "from sklearn.feature_extraction.text import CountVectorizer,TfidfTransformer\n",
    "from sklearn.naive_bayes import MultinomialNB"
   ]
  },
  {
   "cell_type": "code",
   "execution_count": 130,
   "id": "db049ccf",
   "metadata": {},
   "outputs": [],
   "source": [
    "pipe_model=make_pipeline(CountVectorizer(),TfidfTransformer(),MultinomialNB())"
   ]
  },
  {
   "cell_type": "code",
   "execution_count": 131,
   "id": "2143ed37",
   "metadata": {},
   "outputs": [
    {
     "data": {
      "text/plain": [
       "Pipeline(steps=[('countvectorizer', CountVectorizer()),\n",
       "                ('tfidftransformer', TfidfTransformer()),\n",
       "                ('multinomialnb', MultinomialNB())])"
      ]
     },
     "execution_count": 131,
     "metadata": {},
     "output_type": "execute_result"
    }
   ],
   "source": [
    "pipe_model"
   ]
  },
  {
   "cell_type": "code",
   "execution_count": 132,
   "id": "56ccfdfa",
   "metadata": {
    "scrolled": true
   },
   "outputs": [
    {
     "data": {
      "text/plain": [
       "0.842"
      ]
     },
     "execution_count": 132,
     "metadata": {},
     "output_type": "execute_result"
    }
   ],
   "source": [
    "pipe_model.fit(Xptrain,yptrain)\n",
    "pipe_model.score(Xptest,yptest)"
   ]
  },
  {
   "cell_type": "code",
   "execution_count": 133,
   "id": "243736ff",
   "metadata": {},
   "outputs": [],
   "source": [
    "str1=\"We are having a good Government but it can much better than concentrating on education system\""
   ]
  },
  {
   "cell_type": "code",
   "execution_count": 134,
   "id": "351dac64",
   "metadata": {},
   "outputs": [
    {
     "data": {
      "text/plain": [
       "array(['Neg'], dtype='<U3')"
      ]
     },
     "execution_count": 134,
     "metadata": {},
     "output_type": "execute_result"
    }
   ],
   "source": [
    "pipe_model.predict([str1])"
   ]
  },
  {
   "cell_type": "code",
   "execution_count": 135,
   "id": "fbcc6197",
   "metadata": {},
   "outputs": [],
   "source": [
    "    ######pipeline2abs"
   ]
  },
  {
   "cell_type": "code",
   "execution_count": 140,
   "id": "85dbaf40",
   "metadata": {},
   "outputs": [],
   "source": [
    "from sklearn.feature_extraction.text import TfidfVectorizer\n",
    "Xp_train,Xp_test,yp_train,yp_test=train_test_split(X,y,test_size=0.20)"
   ]
  },
  {
   "cell_type": "code",
   "execution_count": 141,
   "id": "7ff16a46",
   "metadata": {},
   "outputs": [
    {
     "data": {
      "text/plain": [
       "((1600,),\n",
       " (400,),\n",
       " 630     Pos\n",
       " 914     Pos\n",
       " 1885    Neg\n",
       " 1391    Neg\n",
       " 596     Pos\n",
       "        ... \n",
       " 1857    Neg\n",
       " 1402    Neg\n",
       " 242     Pos\n",
       " 1038    Neg\n",
       " 1270    Neg\n",
       " Name: class, Length: 1600, dtype: object,\n",
       " 627     Pos\n",
       " 1707    Neg\n",
       " 1031    Neg\n",
       " 637     Pos\n",
       " 440     Pos\n",
       "        ... \n",
       " 1999    Neg\n",
       " 1400    Neg\n",
       " 1197    Neg\n",
       " 737     Pos\n",
       " 1337    Neg\n",
       " Name: class, Length: 400, dtype: object)"
      ]
     },
     "execution_count": 141,
     "metadata": {},
     "output_type": "execute_result"
    }
   ],
   "source": [
    "Xp_train.shape,Xp_test.shape,yp_train,yp_test"
   ]
  },
  {
   "cell_type": "code",
   "execution_count": 142,
   "id": "f3ae3d24",
   "metadata": {},
   "outputs": [],
   "source": [
    "model=make_pipeline(TfidfVectorizer(),MultinomialNB())"
   ]
  },
  {
   "cell_type": "code",
   "execution_count": 143,
   "id": "873117c3",
   "metadata": {},
   "outputs": [
    {
     "data": {
      "text/plain": [
       "Pipeline(steps=[('tfidfvectorizer', TfidfVectorizer()),\n",
       "                ('multinomialnb', MultinomialNB())])"
      ]
     },
     "execution_count": 143,
     "metadata": {},
     "output_type": "execute_result"
    }
   ],
   "source": [
    "model.fit(Xp_train,yp_train)"
   ]
  },
  {
   "cell_type": "code",
   "execution_count": 144,
   "id": "245169c3",
   "metadata": {},
   "outputs": [
    {
     "data": {
      "text/plain": [
       "0.825"
      ]
     },
     "execution_count": 144,
     "metadata": {},
     "output_type": "execute_result"
    }
   ],
   "source": [
    "model.score(Xp_test,yp_test)"
   ]
  },
  {
   "cell_type": "code",
   "execution_count": null,
   "id": "05c5d724",
   "metadata": {},
   "outputs": [],
   "source": []
  }
 ],
 "metadata": {
  "kernelspec": {
   "display_name": "Python 3 (ipykernel)",
   "language": "python",
   "name": "python3"
  },
  "language_info": {
   "codemirror_mode": {
    "name": "ipython",
    "version": 3
   },
   "file_extension": ".py",
   "mimetype": "text/x-python",
   "name": "python",
   "nbconvert_exporter": "python",
   "pygments_lexer": "ipython3",
   "version": "3.9.7"
  }
 },
 "nbformat": 4,
 "nbformat_minor": 5
}
